{
 "cells": [
  {
   "cell_type": "markdown",
   "id": "ac682681",
   "metadata": {},
   "source": [
    "**Project Submission Format** \n",
    " \n",
    "1. Python code with markdown documentation, images saved in .jpg or .png format, and README.md as a project report OR\n",
    "2. Jupyter notebook (.ipynb) that contains full markdown sections as listed above \n",
    "\n",
    "<!-- # SUBMISSION FORMAT FOR THE REPORTS -->"
   ]
  },
  {
   "cell_type": "markdown",
   "id": "293049cd",
   "metadata": {},
   "source": [
    "#  Traffic Dynamics in Futuristic Urban Environments: An Analysis of Vehicle Types, Weather, and Economic Conditions\n",
    "**Authors/Team Members:**\n",
    "\n",
    "**Zoe Becker, Islam Rajei, Alex Lewis** "
   ]
  },
  {
   "cell_type": "markdown",
   "id": "e2eeec4d",
   "metadata": {},
   "source": [
    "## Project Summary\n",
    "\n",
    "<!-- <Complete for *Project Proposal* assignment submission to give idea to the reader what youa re trying to do and how> \n",
    "\n",
    "<Fully rewrite the summary as the last step for the *Project Submission* assignment: github.com repositories on how people shortblurb thre project. It is a standalone section. It is written to give the reader a summary of your work. Be sure to specific, yet brief.> -->\n",
    "\n",
    "This project aims to observe traffic dynamics within six fictional futuristic cities, leveraging a dataset comprising over 1.2 million records. Each record encapsulates a variety of factors that influence traffic conditions, such as vehicle types (including flying cars), weather and economic conditions, the day of the week, and specific hours of the day, among others. By analyzing these factors, we intend to uncover underlying patterns and insights into how different variables impact traffic flow and energy consumption. Our approach will involve analyzing the impact of factors like weather, economic conditions, and vehicle types on traffic flow and energy consumption."
   ]
  },
  {
   "cell_type": "markdown",
   "id": "fee1f0f3",
   "metadata": {},
   "source": [
    "## Problem Statement \n",
    "\n",
    "<!-- <Add one sentence for the *Project Proposal* assignment submission that captures the project statement.> -->\n",
    "\n",
    "Our project seeks to analyze and understand the dynamics of traffic flow and energy consumption in futuristic urban environments, using a dataset containing over 1.2 million records from six fictional cities.\n",
    "\n",
    "<!-- <Expand the section with few sentences for the *Project Progress* assignment submission> \n",
    "* Give a clear and complete statement of the problem.\n",
    "The primary objective of this project is to decode the complexities of traffic patterns in six fictional futuristic cities, by examining a rich dataset of over 1.2 million records. This dataset includes variables such as vehicle types, weather conditions, economic states, the day of the week, and the time of day, which collectively influence traffic flow and energy usage. -->\n",
    "\n",
    "* What is the benchmark you are using.  Why?  \n",
    "\n",
    "* Where does the data come from, what are its characteristics? Include informal success measures (e.g. accuracy on cross-validated data, without specifying ROC or precision/recall etc) that you planned to use. \n",
    "\n",
    "    -  [Urban traffic density in cities](https://www.kaggle.com/datasets/tanishqdublish/urban-traffic-density-in-cities)\n",
    "\n",
    "    - The dataset originates from a simulated study designed to reflect the complexity of traffic management in futuristic urban settings. It covers diverse aspects of urban mobility, including variations in vehicle types (e.g., cars, flying cars), weather conditions (e.g., clear, rainy), economic states (e.g., booming, recession), and traffic-related variables (e.g., speed, energy consumption). The broad range of data will allow us to explore the multifaceted nature of urban traffic dynamics.\n",
    "\n",
    "* What do you hope to achieve?\n",
    "    - We plan to use informal success measures such as model accuracy on a hold-out set (cross-validated data) to gauge the effectiveness of our analysis. While specific metrics like ROC or precision/recall might be applicable in later stages, at this phase, our focus is on understanding the general predictability of the dataset features on traffic patterns and energy consumption.\n",
    "\n",
    "\n",
    "<!-- <Finalize for the *Project Submission* assignment submission> -->\n",
    "\n"
   ]
  },
  {
   "cell_type": "markdown",
   "id": "18cec9d2",
   "metadata": {},
   "source": [
    "## Dataset \n",
    "\n",
    "<Add highlights on the dataset, specifically the size in instances and attributes for **Project Proposal**>\n",
    "\n",
    "<!-- <Complete the following for the **Project Progress**>\n",
    "* Description of the dataset (dimensions, names of variables with their description) If in doubt, use 3.1-3.3. [Datasheets For Datasets](https://arxiv.org/abs/1803.09010) as a guideline.  \n",
    "* If you are using benchmarks, describe the data in details. If you are collecting data, describe why, how, data format, volume, labeling, etc.>\n",
    "\n",
    "<Expand and complete for *Project Submission*>\n",
    "\n",
    "* What Processing Tools have you used.  Why?  Add final images from jupyter notebook. Use questions from 3.4 of the [Datasheets For Datasets](https://arxiv.org/abs/1803.09010) paper for a guide.>   -->"
   ]
  },
  {
   "cell_type": "markdown",
   "id": "74993bb4",
   "metadata": {},
   "source": [
    "## Exploratory Data Analysis \n",
    "\n",
    "<Complete for **Project Progress**>\n",
    "<!-- * What EDA graphs you are planning to use? \n",
    "* Why? - Add figures if any -->\n",
    "\n",
    "<Expand and complete for the **Project Submission**>\n",
    "<!-- * Describe the methods you explored (usually algorithms, or data wrangling approaches). \n",
    "  * Include images. \n",
    "* Justify methods for feature normalization selection and the modeling approach you are planning to use.  -->\n",
    "\n"
   ]
  },
  {
   "cell_type": "markdown",
   "id": "6b83612e",
   "metadata": {},
   "source": [
    "<!-- ## Data Preprocessing \n",
    "\n",
    "<Complete for *Project Progress*>\n",
    "* Have you considered Dimensionality Reduction or Scaling? \n",
    "  * If yes, include steps here.  \n",
    "* What did you consider but *not* use? Why? \n",
    "\n",
    "<Expand and complete for **Project Submission**> -->"
   ]
  },
  {
   "cell_type": "markdown",
   "id": "96a7e940",
   "metadata": {},
   "source": [
    "\n",
    "## Machine Learning Approaches\n",
    "\n",
    "<Complete for **Project Progress**>\n",
    "\n",
    "<!-- * What is your baseline evaluation setup? Why? \n",
    "* Describe the ML methods that you consider using and what is the reason for their choice? \n",
    "   * What is the family of machine learning algorithms you are using and why? -->\n",
    "\n",
    "<Expand and complete for **Project Submission**>\n",
    "\n",
    "<!-- * Describe the methods/datasets (you can have unscaled, selected, scaled version, multiple data farmes) that you ended up using for modeling. \n",
    "\n",
    "* Justify the selection of machine learning tools you have used\n",
    "  * How they informed the next steps? \n",
    "* Make sure to include at least twp models: (1) baseline model, and (2) improvement model(s).  \n",
    "   * The baseline model  is typically the simplest model that's applicable to that data problem, something we have learned in the class. \n",
    "   * Improvement model(s) are available on Kaggle challenge site, and you can research github.com and papers with code for approaches.   -->\n",
    "\n"
   ]
  },
  {
   "cell_type": "markdown",
   "id": "840a4c92",
   "metadata": {},
   "source": [
    "\n",
    "## Experiments \n",
    "\n",
    "< **Project Progress** should include experiments you have completed thus far.>\n",
    "\n",
    "<**Project Submission** should only contain final version of the experiments. Please use visualizations whenever possible.>\n",
    "<!-- * Describe how did you evaluate your solution \n",
    "  * What evaluation metrics did you use? \n",
    "* Describe a baseline model. \n",
    "  * How much did your model outperform the baseline?  \n",
    "* Were there other models evaluated on the same dataset(s)? \n",
    "  * How did your model do in comparison to theirs? \n",
    "  * Show graphs/tables with results \n",
    "  * Present error analysis and suggestions for future improvement.  -->\n"
   ]
  },
  {
   "cell_type": "markdown",
   "id": "a46b95ef",
   "metadata": {},
   "source": [
    "\n",
    "## Conclusion\n",
    "<Complete for the **Project Submission**>\n",
    "<!-- * What did not work? \n",
    "* What do you think why? \n",
    "* What were approaches, tuning model parameters you have tried? \n",
    "* What features worked well and what didn't? \n",
    "* When describing methods that didn't work, make clear how they failed and any evaluation metrics you used to decide so. \n",
    "* How was that a data-driven decision? Be consise, all details can be left in .ipynb -->\n",
    "\n",
    " \n"
   ]
  },
  {
   "cell_type": "markdown",
   "id": "1e4b9381",
   "metadata": {},
   "source": [
    "## Submission Format\n",
    "1. Python code with markdown documentation, images saved in .jpg or .png format, and README.md as a project report OR\n",
    "2. Jupyter notebook (.ipynb) that contains full markdown sections as listed above \n",
    "\n",
    "## Now go back and write the summary at the top of the page"
   ]
  }
 ],
 "metadata": {
  "kernelspec": {
   "display_name": "Python 3 (ipykernel)",
   "language": "python",
   "name": "python3"
  },
  "language_info": {
   "codemirror_mode": {
    "name": "ipython",
    "version": 3
   },
   "file_extension": ".py",
   "mimetype": "text/x-python",
   "name": "python",
   "nbconvert_exporter": "python",
   "pygments_lexer": "ipython3",
   "version": "3.11.5"
  }
 },
 "nbformat": 4,
 "nbformat_minor": 5
}
